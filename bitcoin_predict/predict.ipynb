{
 "cells": [
  {
   "cell_type": "code",
   "execution_count": 86,
   "metadata": {},
   "outputs": [],
   "source": [
    "import pandas as pd\n",
    "import numpy as np\n",
    "import matplotlib.pyplot as plt\n",
    "from keras.models import Sequential\n",
    "from keras.layers import LSTM,Dropout, Dense, Activation\n",
    "import datetime"
   ]
  },
  {
   "cell_type": "code",
   "execution_count": 87,
   "metadata": {},
   "outputs": [
    {
     "data": {
      "text/html": [
       "<div>\n",
       "<style scoped>\n",
       "    .dataframe tbody tr th:only-of-type {\n",
       "        vertical-align: middle;\n",
       "    }\n",
       "\n",
       "    .dataframe tbody tr th {\n",
       "        vertical-align: top;\n",
       "    }\n",
       "\n",
       "    .dataframe thead th {\n",
       "        text-align: right;\n",
       "    }\n",
       "</style>\n",
       "<table border=\"1\" class=\"dataframe\">\n",
       "  <thead>\n",
       "    <tr style=\"text-align: right;\">\n",
       "      <th></th>\n",
       "      <th>Date</th>\n",
       "      <th>Open*</th>\n",
       "      <th>High</th>\n",
       "      <th>Low</th>\n",
       "      <th>Close**</th>\n",
       "      <th>Volume</th>\n",
       "      <th>Market Cap</th>\n",
       "    </tr>\n",
       "  </thead>\n",
       "  <tbody>\n",
       "    <tr>\n",
       "      <th>0</th>\n",
       "      <td>Mar 16, 2020</td>\n",
       "      <td>5385.23</td>\n",
       "      <td>5385.23</td>\n",
       "      <td>4575.36</td>\n",
       "      <td>5014.48</td>\n",
       "      <td>45368026430</td>\n",
       "      <td>91633478850</td>\n",
       "    </tr>\n",
       "    <tr>\n",
       "      <th>1</th>\n",
       "      <td>Mar 15, 2020</td>\n",
       "      <td>5201.07</td>\n",
       "      <td>5836.65</td>\n",
       "      <td>5169.28</td>\n",
       "      <td>5392.31</td>\n",
       "      <td>33997889639</td>\n",
       "      <td>98530059890</td>\n",
       "    </tr>\n",
       "    <tr>\n",
       "      <th>2</th>\n",
       "      <td>Mar 14, 2020</td>\n",
       "      <td>5573.08</td>\n",
       "      <td>5625.23</td>\n",
       "      <td>5125.07</td>\n",
       "      <td>5200.37</td>\n",
       "      <td>36154506008</td>\n",
       "      <td>95014981944</td>\n",
       "    </tr>\n",
       "    <tr>\n",
       "      <th>3</th>\n",
       "      <td>Mar 13, 2020</td>\n",
       "      <td>5017.83</td>\n",
       "      <td>5838.11</td>\n",
       "      <td>4106.98</td>\n",
       "      <td>5563.71</td>\n",
       "      <td>74156772075</td>\n",
       "      <td>101644613038</td>\n",
       "    </tr>\n",
       "    <tr>\n",
       "      <th>4</th>\n",
       "      <td>Mar 12, 2020</td>\n",
       "      <td>7913.62</td>\n",
       "      <td>7929.12</td>\n",
       "      <td>4860.35</td>\n",
       "      <td>4970.79</td>\n",
       "      <td>53980357243</td>\n",
       "      <td>90804613601</td>\n",
       "    </tr>\n",
       "  </tbody>\n",
       "</table>\n",
       "</div>"
      ],
      "text/plain": [
       "           Date    Open*     High      Low  Close**       Volume    Market Cap\n",
       "0  Mar 16, 2020  5385.23  5385.23  4575.36  5014.48  45368026430   91633478850\n",
       "1  Mar 15, 2020  5201.07  5836.65  5169.28  5392.31  33997889639   98530059890\n",
       "2  Mar 14, 2020  5573.08  5625.23  5125.07  5200.37  36154506008   95014981944\n",
       "3  Mar 13, 2020  5017.83  5838.11  4106.98  5563.71  74156772075  101644613038\n",
       "4  Mar 12, 2020  7913.62  7929.12  4860.35  4970.79  53980357243   90804613601"
      ]
     },
     "execution_count": 87,
     "metadata": {},
     "output_type": "execute_result"
    }
   ],
   "source": [
    "data = pd.read_csv('bitcoin.csv',thousands=',')\n",
    "data.head()"
   ]
  },
  {
   "cell_type": "code",
   "execution_count": 92,
   "metadata": {},
   "outputs": [],
   "source": [
    "df= data[::-1]"
   ]
  },
  {
   "cell_type": "code",
   "execution_count": 93,
   "metadata": {},
   "outputs": [],
   "source": [
    "high_prices = df['High'].values\n",
    "low_prices = df['Low'].values\n",
    "mid_prices = (high_prices + low_prices) /2"
   ]
  },
  {
   "cell_type": "code",
   "execution_count": 94,
   "metadata": {},
   "outputs": [],
   "source": [
    "seq_len = 50\n",
    "sequence_length = seq_len +1\n",
    "\n",
    "result = []\n",
    "for index in range(len(mid_prices) - sequence_length):\n",
    "    result.append(mid_prices[index: index+sequence_length])"
   ]
  },
  {
   "cell_type": "code",
   "execution_count": 95,
   "metadata": {},
   "outputs": [],
   "source": [
    "normalize=[]\n",
    "for window in result:\n",
    "    normalize_win = [((float(p) / float(window[0]))-1) for p in window]\n",
    "    normalize.append(normalize_win)\n",
    "    \n",
    "result = np.array(normalize)"
   ]
  },
  {
   "cell_type": "code",
   "execution_count": 96,
   "metadata": {},
   "outputs": [],
   "source": [
    "row = int(round(result.shape[0]*0.9))\n",
    "train = result[:row, :]\n",
    "np.random.shuffle(train)"
   ]
  },
  {
   "cell_type": "code",
   "execution_count": 97,
   "metadata": {},
   "outputs": [],
   "source": [
    "x_train = train[:, :-1]\n",
    "x_train = np.reshape(x_train, (x_train.shape[0], x_train.shape[1],1))\n",
    "y_train = train[:,-1]\n",
    "\n",
    "x_test = result[row:, :-1]\n",
    "x_test = np.reshape(x_test, (x_test.shape[0], x_test.shape[1],1))\n",
    "y_test = result[row:,-1]"
   ]
  },
  {
   "cell_type": "code",
   "execution_count": 98,
   "metadata": {},
   "outputs": [
    {
     "data": {
      "text/plain": [
       "((2217, 50, 1), (246, 50, 1))"
      ]
     },
     "execution_count": 98,
     "metadata": {},
     "output_type": "execute_result"
    }
   ],
   "source": [
    "x_train.shape, x_test.shape"
   ]
  },
  {
   "cell_type": "code",
   "execution_count": 99,
   "metadata": {},
   "outputs": [
    {
     "name": "stdout",
     "output_type": "stream",
     "text": [
      "Model: \"sequential_1\"\n",
      "_________________________________________________________________\n",
      "Layer (type)                 Output Shape              Param #   \n",
      "=================================================================\n",
      "lstm_1 (LSTM)                (None, 50, 50)            10400     \n",
      "_________________________________________________________________\n",
      "lstm_2 (LSTM)                (None, 64)                29440     \n",
      "_________________________________________________________________\n",
      "dense_1 (Dense)              (None, 1)                 65        \n",
      "=================================================================\n",
      "Total params: 39,905\n",
      "Trainable params: 39,905\n",
      "Non-trainable params: 0\n",
      "_________________________________________________________________\n"
     ]
    }
   ],
   "source": [
    "model = Sequential()\n",
    "model.add(LSTM(50, return_sequences=True, input_shape=(50,1)))\n",
    "model.add(LSTM(64, return_sequences=False))\n",
    "model.add(Dense(1,activation='linear'))\n",
    "model.compile(loss='mse',optimizer='rmsprop')\n",
    "model.summary()"
   ]
  },
  {
   "cell_type": "code",
   "execution_count": 101,
   "metadata": {},
   "outputs": [
    {
     "name": "stdout",
     "output_type": "stream",
     "text": [
      "Train on 2217 samples, validate on 246 samples\n",
      "Epoch 1/20\n",
      "2217/2217 [==============================] - 8s 4ms/step - loss: 0.0744 - val_loss: 0.0044\n",
      "Epoch 2/20\n",
      "2217/2217 [==============================] - 7s 3ms/step - loss: 0.0297 - val_loss: 0.0037\n",
      "Epoch 3/20\n",
      "2217/2217 [==============================] - 11s 5ms/step - loss: 0.0264 - val_loss: 0.0033\n",
      "Epoch 4/20\n",
      "2217/2217 [==============================] - 10s 4ms/step - loss: 0.0201 - val_loss: 0.0029\n",
      "Epoch 5/20\n",
      "2217/2217 [==============================] - 10s 4ms/step - loss: 0.0181 - val_loss: 0.0028\n",
      "Epoch 6/20\n",
      "2217/2217 [==============================] - 10s 4ms/step - loss: 0.0178 - val_loss: 0.0024\n",
      "Epoch 7/20\n",
      "2217/2217 [==============================] - 9s 4ms/step - loss: 0.0153 - val_loss: 0.0024\n",
      "Epoch 8/20\n",
      "2217/2217 [==============================] - 9s 4ms/step - loss: 0.0158 - val_loss: 0.0025\n",
      "Epoch 9/20\n",
      "2217/2217 [==============================] - 10s 4ms/step - loss: 0.0109 - val_loss: 0.0021\n",
      "Epoch 10/20\n",
      "2217/2217 [==============================] - 9s 4ms/step - loss: 0.0108 - val_loss: 0.0015\n",
      "Epoch 11/20\n",
      "2217/2217 [==============================] - 9s 4ms/step - loss: 0.0112 - val_loss: 0.0019\n",
      "Epoch 12/20\n",
      "2217/2217 [==============================] - 9s 4ms/step - loss: 0.0109 - val_loss: 0.0018\n",
      "Epoch 13/20\n",
      "2217/2217 [==============================] - 9s 4ms/step - loss: 0.0128 - val_loss: 0.0014\n",
      "Epoch 14/20\n",
      "2217/2217 [==============================] - 9s 4ms/step - loss: 0.0103 - val_loss: 0.0015\n",
      "Epoch 15/20\n",
      "2217/2217 [==============================] - 9s 4ms/step - loss: 0.0093 - val_loss: 0.0011\n",
      "Epoch 16/20\n",
      "2217/2217 [==============================] - 9s 4ms/step - loss: 0.0087 - val_loss: 0.0014\n",
      "Epoch 17/20\n",
      "2217/2217 [==============================] - 9s 4ms/step - loss: 0.0097 - val_loss: 9.7452e-04\n",
      "Epoch 18/20\n",
      "2217/2217 [==============================] - 9s 4ms/step - loss: 0.0097 - val_loss: 9.2000e-04\n",
      "Epoch 19/20\n",
      "2217/2217 [==============================] - 9s 4ms/step - loss: 0.0087 - val_loss: 0.0012\n",
      "Epoch 20/20\n",
      "2217/2217 [==============================] - 9s 4ms/step - loss: 0.0088 - val_loss: 8.7242e-04\n"
     ]
    },
    {
     "data": {
      "text/plain": [
       "<keras.callbacks.callbacks.History at 0x242f3f57bc8>"
      ]
     },
     "execution_count": 101,
     "metadata": {},
     "output_type": "execute_result"
    }
   ],
   "source": [
    "model.fit(x_train,y_train, validation_data=(x_test,y_test),\n",
    "         batch_size=10, epochs=20)"
   ]
  },
  {
   "cell_type": "code",
   "execution_count": 107,
   "metadata": {},
   "outputs": [
    {
     "data": {
      "text/plain": [
       "<matplotlib.legend.Legend at 0x242fceb0148>"
      ]
     },
     "execution_count": 107,
     "metadata": {},
     "output_type": "execute_result"
    },
    {
     "data": {
      "image/png": "[encoded data removed]",
      "text/plain": [
       "<Figure size 720x576 with 1 Axes>"
      ]
     },
     "metadata": {
      "needs_background": "light"
     },
     "output_type": "display_data"
    }
   ],
   "source": [
    "pred=model.predict(x_test)\n",
    "\n",
    "fig = plt.figure(figsize=(10,8))\n",
    "ax = fig.add_subplot(111)\n",
    "ax.plot(y_test, label='True')\n",
    "ax.plot(pred, label='predict')\n",
    "ax.legend()"
   ]
  }
 ],
 "metadata": {
  "kernelspec": {
   "display_name": "Python 3",
   "language": "python",
   "name": "python3"
  },
  "language_info": {
   "codemirror_mode": {
    "name": "ipython",
    "version": 3
   },
   "file_extension": ".py",
   "mimetype": "text/x-python",
   "name": "python",
   "nbconvert_exporter": "python",
   "pygments_lexer": "ipython3",
   "version": "3.7.6"
  }
 },
 "nbformat": 4,
 "nbformat_minor": 4
}
